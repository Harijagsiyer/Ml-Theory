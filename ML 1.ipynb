{
 "cells": [
  {
   "cell_type": "markdown",
   "id": "90eac301",
   "metadata": {},
   "source": [
    "# Machine Learning\n",
    "\n",
    "* Machine Learning is a study of making a machine to decide the outcomes for one/more problem by using different kind of algorithms and models.  \n",
    "        \n",
    "          \n",
    "           \n",
    "* Machine Learning is a subset of artificial intelligence that enables computer systems to automatically learn and improve based on their experiences without being explicitly programmed."
   ]
  },
  {
   "cell_type": "markdown",
   "id": "dfab74bd",
   "metadata": {},
   "source": [
    "# Why Machine Learning ?\n",
    "\n",
    "* Machine Learning is currently receiving all of the attention it requires.   \n",
    "\n",
    "* Many activities, particularly those that only people can accomplish with their natural intellect, can be automated using machine learning. \n",
    "\n",
    "* Only machine learning will be able to replicate this intelligence in machines."
   ]
  },
  {
   "cell_type": "markdown",
   "id": "e7d52110",
   "metadata": {},
   "source": [
    "##### MODEL  :  \n",
    "#### A machine learning model, often known as a \"hypothesis,\" is a mathematical description of a real-world process. A machine learning model is created by combining a machine learning algorithm and training data."
   ]
  },
  {
   "cell_type": "markdown",
   "id": "fd5df611",
   "metadata": {},
   "source": [
    "# HOW DOES MACHINE LEARNING WORKS"
   ]
  },
  {
   "cell_type": "markdown",
   "id": "a8ad78d2",
   "metadata": {},
   "source": [
    "![ml](https://d1m75rqqgidzqn.cloudfront.net/2019/10/What-is-Machine-Learning-Machine-learning-model-vs-traditional-model.jpg)\n",
    "\n",
    "\n",
    "* A model is a system that produces predictions.    \n",
    "\n",
    "\n",
    "* The parameters are the elements that the model takes into account while making predictions.   \n",
    "\n",
    "\n",
    "* The learner modifies the parameters and model to align the predictions with the actual outcomes.  \n",
    "\n",
    "\n",
    "* A part of data is passed as input data(test - data) to the model.   \n",
    "\n",
    "\n",
    "* The model finds relationships and patterns in our data .   \n",
    "\n",
    "\n",
    "* Finally, it predicts the outuputs.   \n",
    "\n"
   ]
  },
  {
   "cell_type": "markdown",
   "id": "48314abb",
   "metadata": {},
   "source": [
    "## Which Language to use  ?\n",
    "\n",
    "* Python is well-known for its readability and lesser complexity when compared to other computer languages.  \n",
    "\n",
    "\n",
    "* Machine Learning applications entail sophisticated concepts like as calculus and linear algebra, which need a significant amount of work and time to execute. Python helps in reducing this burden with quick implementation for the ML engineer to validate an idea.  \n",
    "\n",
    "\n",
    "* Python is a versatile programming language and can run on any platform, including Windows, MacOS, Linux, Unix, and others.  \n",
    "\n",
    "\n",
    "* While migrating from one platform to another, the code needs some minor adaptations and changes, and it is ready to work on the new platform.  \n"
   ]
  },
  {
   "cell_type": "markdown",
   "id": "af1fbb1c",
   "metadata": {},
   "source": [
    "## Why is  machine learning popular and getting trendy ?\n",
    "\n",
    "* The amount of data available to us is growing all the time.   \n",
    "\n",
    "\n",
    "* Machines utilise this data to learn and enhance the findings and outcomes that we receive.     \n",
    "\n",
    "\n",
    "* These outcomes may be highly beneficial in terms of giving important insights and making educated business decisions. Machine Learning is continually evolving, as are the applications of machine learning."
   ]
  },
  {
   "cell_type": "markdown",
   "id": "c90b7b67",
   "metadata": {},
   "source": [
    "#### DONE BY\n",
    "\n",
    "###### Name - Hari Jagadeesh Iyer\n",
    "###### Email - harijagsiyer@gmail.com"
   ]
  },
  {
   "cell_type": "code",
   "execution_count": null,
   "id": "1f318066",
   "metadata": {},
   "outputs": [],
   "source": []
  }
 ],
 "metadata": {
  "kernelspec": {
   "display_name": "Python 3",
   "language": "python",
   "name": "python3"
  },
  "language_info": {
   "codemirror_mode": {
    "name": "ipython",
    "version": 3
   },
   "file_extension": ".py",
   "mimetype": "text/x-python",
   "name": "python",
   "nbconvert_exporter": "python",
   "pygments_lexer": "ipython3",
   "version": "3.9.5"
  }
 },
 "nbformat": 4,
 "nbformat_minor": 5
}
