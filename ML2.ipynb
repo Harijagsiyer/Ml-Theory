{
 "cells": [
  {
   "cell_type": "markdown",
   "id": "ddcacef1",
   "metadata": {},
   "source": [
    "### Linear Regression"
   ]
  },
  {
   "cell_type": "markdown",
   "id": "a990ddeb",
   "metadata": {},
   "source": [
    "Before we go into the specifics of linear regression, you might be wondering why we're looking at this method in the first place. \n",
    "\n",
    "Isn't it a statistical technique? \n",
    "\n",
    "Machine learning, more particularly predictive modelling, is primarily concerned with minimising a model's error or producing the most accurate predictions possible at the price of explainability."
   ]
  },
  {
   "cell_type": "markdown",
   "id": "7676cbf2",
   "metadata": {},
   "source": [
    "### Linear Regression Representation"
   ]
  },
  {
   "cell_type": "markdown",
   "id": "aa55ceab",
   "metadata": {},
   "source": [
    "* Because of the simplicity of its depiction, linear regression is an appealing model.\n",
    "The representation is a linear equation that combines a specific set of input values (x) and yields the anticipated output for that set of input values (y). As a result, both the input (x) and output values are numeric.\n",
    "\n",
    "* The linear equation provides one scale factor for every input parameter or column, which is denoted by the capital Greek letter Beta (B). One more coefficient is added, which gives the line an additional degree of freedom (e.g., going up and down on a two-dimensional plot) and is frequently referred to as the intercept or the bias coefficient.\n",
    "\n",
    "* For instance, in a simple linear regression issue (a single x and a single y), the model would have the following form: Y= mx + c\n",
    "\n",
    "* If we have more than one input (x) in higher dimensions, the line is termed a plane or a hyper-plane. As a result, the representation takes the form of the equation and the precise values used for the coefficients ."
   ]
  },
  {
   "cell_type": "markdown",
   "id": "bfa83ed7",
   "metadata": {},
   "source": [
    "### Performance of Regression"
   ]
  },
  {
   "cell_type": "markdown",
   "id": "f8e9ab66",
   "metadata": {},
   "source": [
    "*The performance of the regression model can be evaluated by using various metrics like MAE, MAPE, RMSE, R-squared etc.\n",
    "\n",
    "#### Mean Absolute Error (MAE)\n",
    "By using MAE, we calculate the average absolute difference between the actual values and the predicted values. \n",
    "\n",
    "\n",
    "#### Mean Absolute Percentage Error (MAPE) \n",
    "MAPE is defined as the average of the absolute deviation of the predicted value from the actual value. It is the average of the ratio of the absolute difference between actual & predicted values, and actual value. \n",
    "\n",
    "\n",
    "#### Root Mean Square Error (RMSE)\n",
    "RMSE calculates the square root average of the sum of the squared difference between the actual and the predicted values.\n",
    "\n",
    "\n",
    "#### R-squared values\n",
    "R-square value depicts the percentage of the variation in the dependent variable explained by the independent variable in the model. \n",
    "\n",
    "#### RSS \n",
    "Residual sum of squares: It is the measure of the difference between the expected and the actual output. A small RSS indicates a tight fit of the model to the data. It is also defined as follows: \n",
    "\n",
    "\n",
    "#### TSS \n",
    "Total sum of squares: It is the sum of errors of the data points from the mean of the response variable. \n",
    "\n",
    "\n",
    "R2 value ranges from 0 to 1. Higher the R-square value better the model. The value of R2 increases if we add more variables to the model irrespective of the variable contributing to the model or not. This is the disadvantage of using R2."
   ]
  },
  {
   "cell_type": "markdown",
   "id": "83169f9c",
   "metadata": {},
   "source": [
    "#### DONE BY\n",
    "\n",
    "###### Name - Hari Jagadeesh Iyer\n",
    "###### Email - harijagsiyer@gmail.com"
   ]
  },
  {
   "cell_type": "code",
   "execution_count": null,
   "id": "67f376e5",
   "metadata": {},
   "outputs": [],
   "source": []
  }
 ],
 "metadata": {
  "kernelspec": {
   "display_name": "Python 3",
   "language": "python",
   "name": "python3"
  },
  "language_info": {
   "codemirror_mode": {
    "name": "ipython",
    "version": 3
   },
   "file_extension": ".py",
   "mimetype": "text/x-python",
   "name": "python",
   "nbconvert_exporter": "python",
   "pygments_lexer": "ipython3",
   "version": "3.9.5"
  }
 },
 "nbformat": 4,
 "nbformat_minor": 5
}
